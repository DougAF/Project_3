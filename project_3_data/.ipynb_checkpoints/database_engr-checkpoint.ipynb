{
 "cells": [
  {
   "cell_type": "markdown",
   "metadata": {},
   "source": [
    "# Database setup - Project 2\n"
   ]
  },
  {
   "cell_type": "code",
   "execution_count": 3,
   "metadata": {},
   "outputs": [],
   "source": [
    "# Imports\n",
    "import pandas as pd\n",
    "import sqlalchemy\n",
    "from sqlalchemy import create_engine, MetaData\n",
    "from sqlalchemy.ext.declarative import declarative_base\n",
    "from sqlalchemy import Column, Integer, String, Numeric, Text, Float, ForeignKey\n",
    "from sqlalchemy.orm import sessionmaker, relationship\n"
   ]
  },
  {
   "cell_type": "code",
   "execution_count": null,
   "metadata": {},
   "outputs": [],
   "source": [
    "# Create Engine\n",
    "engine = create_engine(\"sqlite:///p2_cities.sqlite\")\n",
    "\n",
    "# Use `declarative_base` from SQLAlchemy to model the city table as an ORM class\n",
    "# Make sure to specify types for each column\n",
    "# Declare a Base object here\n",
    "Base = declarative_base()\n"
   ]
  },
  {
   "cell_type": "code",
   "execution_count": null,
   "metadata": {},
   "outputs": [],
   "source": [
    "# Define the ORM class or `Cities`\n",
    "### BEGIN SOLUTION\n",
    "class Cities(Base):\n",
    "    \n",
    "    __tablename__ = 'cities'\n",
    "\n",
    "    id = Column(Integer, primary_key=True)\n",
    "    city = Column(Text)\n",
    "    state_name = Column(Text)\n",
    "    population = Column(Float)\n",
    "    lat = Column(Float)\n",
    "    lng = Column(Float)\n",
    "    #date = Column(Text)\n",
    "    #avg_edu = Column(Float)\n",
    "    #avg_income_pc = Column(Float)\n",
    "    #total_college_students = Column(Float)\n",
    "    #crime_rate_per_100000 = Column(Float)\n",
    "    \n",
    "    def __repr__(self):\n",
    "        return f\"id={self.id}, name={self.name}\""
   ]
  },
  {
   "cell_type": "code",
   "execution_count": null,
   "metadata": {},
   "outputs": [],
   "source": [
    "#use create all to create the table \n",
    "\n",
    "Base.metadata.create_all(engine)\n"
   ]
  },
  {
   "cell_type": "code",
   "execution_count": null,
   "metadata": {},
   "outputs": [],
   "source": [
    "# Verify that the table name exists in the database\n",
    "engine.table_names()"
   ]
  },
  {
   "cell_type": "code",
   "execution_count": null,
   "metadata": {},
   "outputs": [],
   "source": [
    "# Use Pandas to Bulk insert each CSV file into the table\n",
    "def populate_table(engine, table, csvfile):\n",
    "    \"\"\"Populates a table from a Pandas DataFrame.\"\"\"\n",
    "    # connect to the database\n",
    "    conn = engine.connect()\n",
    "    \n",
    "    # Load the CSV file into a pandas dataframe \n",
    "    df_to_insert = pd.read_csv(csvfile)\n",
    "    \n",
    "    # Orient='records' creates a list of data to write\n",
    "    # http://pandas-docs.github.io/pandas-docs-travis/io.html#orient-options\n",
    "    #orient = to columns or records better for our needs?\n",
    "    data = df_to_insert.to_dict(orient='records')\n",
    "\n",
    "    # Optional: Delete all rows in the table \n",
    "    conn.execute(table.delete())#NEEDED OR NOT?\n",
    "\n",
    "    # Insert the dataframe into the database in one bulk insert\n",
    "    conn.execute(table.insert(), data)\n",
    "    \n",
    "# Call the function to insert the data for each table\n",
    "populate_table(engine, Cities.__table__, 'cities.csv')\n"
   ]
  },
  {
   "cell_type": "code",
   "execution_count": null,
   "metadata": {},
   "outputs": [],
   "source": [
    "# Use a basic query to validate that the data was inserted correctly for table 'cities'\n",
    "\n",
    "engine.execute(\"SELECT * FROM cities WHERE population > 100000 ORDER BY population DESC LIMIT 1\").fetchall()"
   ]
  },
  {
   "cell_type": "code",
   "execution_count": null,
   "metadata": {},
   "outputs": [],
   "source": [
    "#This CSV is serving as our dummy DATA"
   ]
  },
  {
   "cell_type": "code",
   "execution_count": null,
   "metadata": {},
   "outputs": [],
   "source": [
    "df = pd.DataFrame(engine.execute(\"SELECT * FROM cities ORDER BY population DESC LIMIT 100\").fetchall())"
   ]
  },
  {
   "cell_type": "markdown",
   "metadata": {},
   "source": [
    "#############################################\n",
    "            REAL DB BELOW\n",
    "#############################################"
   ]
  },
  {
   "cell_type": "code",
   "execution_count": 1,
   "metadata": {},
   "outputs": [],
   "source": [
    "#cities_db.sqlite creation"
   ]
  },
  {
   "cell_type": "code",
   "execution_count": 4,
   "metadata": {},
   "outputs": [],
   "source": [
    "engine = create_engine(\"sqlite:///cities_db_3.sqlite\")\n",
    "\n",
    "# Use `declarative_base` from SQLAlchemy to model the city table as an ORM class\n",
    "# Make sure to specify types for each column\n",
    "# Declare a Base object here\n",
    "Base = declarative_base()"
   ]
  },
  {
   "cell_type": "code",
   "execution_count": 5,
   "metadata": {},
   "outputs": [],
   "source": [
    "# Define the ORM class or `Cities`\n",
    "### BEGIN SOLUTION        \n",
    "#Cities.city,\n",
    "#         Cities.state,\n",
    "#         Cities.lat,\n",
    "#         Cities.lng,\n",
    "#         Cities.pop_2016,\n",
    "#         Cities.estab_2016,\n",
    "#         Cities.median_household_inc,\n",
    "#         Cities.bach_or_higher_percent,\n",
    "#         Cities.agg_commute_mins,\n",
    "#         Cities.biz_growth_Y,\n",
    "#         Cities.tax_rank,\n",
    "#         Cities.corp_tax_rank,\n",
    "#         Cities.income_tax_rank,\n",
    "#         Cities.sales_tax_rank,\n",
    "#         Cities.property_tax_rank,\n",
    "#         Cities.unemployment_tax_rank\n",
    "\n",
    "class Cities(Base):\n",
    "    \n",
    "    __tablename__ = 'cities'\n",
    "\n",
    "    id2 = Column(Integer, primary_key=True)\n",
    "    city = Column(Text)\n",
    "    state = Column(Text)  \n",
    "    lat = Column(Float)\n",
    "    lng = Column(Float)\n",
    "    pop_2011 = Column(Float)\n",
    "    pop_2016 = Column(Float)\n",
    "    estab_2011 = Column(Float)\n",
    "    estab_2016 = Column(Float)\n",
    "    agg_commute_mins = Column(Float)\n",
    "    median_household_inc = Column(Float)\n",
    "    bach_or_higher_percent = Column(Float)\n",
    "    biz_growth_Y = Column(Float)\n",
    "#     tax_rank = Column(Float)\n",
    "#     corp_tax_rank = Column(Float)\n",
    "#     income_tax_rank = Column(Float)\n",
    "#     sales_tax_rank = Column(Float)\n",
    "#     property_tax_rank = Column(Float)\n",
    "#     unemployment_tax_rank = Column(Float)\n",
    "    city_state = Column(Text)\n",
    "    tax_score = Column(Text)\n",
    "    \n",
    "    def __repr__(self):\n",
    "        return f\"id={self.id}, name={self.name}\""
   ]
  },
  {
   "cell_type": "code",
   "execution_count": 6,
   "metadata": {},
   "outputs": [],
   "source": [
    "Base.metadata.create_all(engine)"
   ]
  },
  {
   "cell_type": "code",
   "execution_count": 7,
   "metadata": {},
   "outputs": [
    {
     "data": {
      "text/plain": [
       "['cities']"
      ]
     },
     "execution_count": 7,
     "metadata": {},
     "output_type": "execute_result"
    }
   ],
   "source": [
    "# Verify that the table name exists in the database\n",
    "engine.table_names()"
   ]
  },
  {
   "cell_type": "code",
   "execution_count": 8,
   "metadata": {},
   "outputs": [],
   "source": [
    "# Use Pandas to Bulk insert each CSV file into the table\n",
    "def populate_table(engine, table, csvfile):\n",
    "    \"\"\"Populates a table from a Pandas DataFrame.\"\"\"\n",
    "    # connect to the database\n",
    "    conn = engine.connect()\n",
    "    \n",
    "    # Load the CSV file into a pandas dataframe \n",
    "    df_to_insert = pd.read_csv(csvfile)\n",
    "    \n",
    "    # Orient='records' creates a list of data to write\n",
    "    # http://pandas-docs.github.io/pandas-docs-travis/io.html#orient-options\n",
    "    #orient = to columns or records better for our needs?\n",
    "    data = df_to_insert.to_dict(orient='records')\n",
    "\n",
    "    # Optional: Delete all rows in the table \n",
    "    conn.execute(table.delete())#NEEDED OR NOT?\n",
    "\n",
    "    # Insert the dataframe into the database in one bulk insert\n",
    "    conn.execute(table.insert(), data)\n",
    "    \n",
    "# Call the function to insert the data for each table\n",
    "populate_table(engine, Cities.__table__, 'new_main_df.csv')"
   ]
  },
  {
   "cell_type": "code",
   "execution_count": 9,
   "metadata": {},
   "outputs": [
    {
     "data": {
      "text/html": [
       "<div>\n",
       "<style scoped>\n",
       "    .dataframe tbody tr th:only-of-type {\n",
       "        vertical-align: middle;\n",
       "    }\n",
       "\n",
       "    .dataframe tbody tr th {\n",
       "        vertical-align: top;\n",
       "    }\n",
       "\n",
       "    .dataframe thead th {\n",
       "        text-align: right;\n",
       "    }\n",
       "</style>\n",
       "<table border=\"1\" class=\"dataframe\">\n",
       "  <thead>\n",
       "    <tr style=\"text-align: right;\">\n",
       "      <th></th>\n",
       "      <th>Unnamed: 0</th>\n",
       "      <th>Id2</th>\n",
       "      <th>city_state</th>\n",
       "      <th>agg_commute_mins</th>\n",
       "      <th>median_household_inc</th>\n",
       "      <th>bach_or_higher_percent</th>\n",
       "      <th>estab_2011</th>\n",
       "      <th>estab_2016</th>\n",
       "      <th>pop_2011</th>\n",
       "      <th>pop_2016</th>\n",
       "      <th>biz_growth_Y</th>\n",
       "      <th>lat</th>\n",
       "      <th>lng</th>\n",
       "      <th>city</th>\n",
       "      <th>state</th>\n",
       "      <th>tax_score</th>\n",
       "    </tr>\n",
       "  </thead>\n",
       "  <tbody>\n",
       "    <tr>\n",
       "      <th>0</th>\n",
       "      <td>0</td>\n",
       "      <td>10180</td>\n",
       "      <td>Abilene, TX</td>\n",
       "      <td>1313825</td>\n",
       "      <td>48016</td>\n",
       "      <td>20.4</td>\n",
       "      <td>3844.0</td>\n",
       "      <td>3950.0</td>\n",
       "      <td>165858.0</td>\n",
       "      <td>170860.0</td>\n",
       "      <td>-0.250727</td>\n",
       "      <td>32.448736</td>\n",
       "      <td>-99.733144</td>\n",
       "      <td>Abilene</td>\n",
       "      <td>TX</td>\n",
       "      <td>5.46</td>\n",
       "    </tr>\n",
       "    <tr>\n",
       "      <th>1</th>\n",
       "      <td>1</td>\n",
       "      <td>11100</td>\n",
       "      <td>Amarillo, TX</td>\n",
       "      <td>2334755</td>\n",
       "      <td>54478</td>\n",
       "      <td>23.7</td>\n",
       "      <td>6018.0</td>\n",
       "      <td>6348.0</td>\n",
       "      <td>254635.0</td>\n",
       "      <td>263491.0</td>\n",
       "      <td>1.938220</td>\n",
       "      <td>35.221997</td>\n",
       "      <td>-101.831297</td>\n",
       "      <td>Amarillo</td>\n",
       "      <td>TX</td>\n",
       "      <td>5.46</td>\n",
       "    </tr>\n",
       "    <tr>\n",
       "      <th>2</th>\n",
       "      <td>2</td>\n",
       "      <td>12420</td>\n",
       "      <td>Austin-Round Rock, TX</td>\n",
       "      <td>26768530</td>\n",
       "      <td>71000</td>\n",
       "      <td>42.8</td>\n",
       "      <td>41924.0</td>\n",
       "      <td>50759.0</td>\n",
       "      <td>1783519.0</td>\n",
       "      <td>2056405.0</td>\n",
       "      <td>5.007286</td>\n",
       "      <td>30.508255</td>\n",
       "      <td>-97.678896</td>\n",
       "      <td>Austin-Round Rock</td>\n",
       "      <td>TX</td>\n",
       "      <td>5.46</td>\n",
       "    </tr>\n",
       "    <tr>\n",
       "      <th>3</th>\n",
       "      <td>3</td>\n",
       "      <td>13140</td>\n",
       "      <td>Beaumont-Port Arthur, TX</td>\n",
       "      <td>3808355</td>\n",
       "      <td>49364</td>\n",
       "      <td>17.2</td>\n",
       "      <td>7845.0</td>\n",
       "      <td>7896.0</td>\n",
       "      <td>390535.0</td>\n",
       "      <td>409901.0</td>\n",
       "      <td>-4.105174</td>\n",
       "      <td>30.080174</td>\n",
       "      <td>-94.126556</td>\n",
       "      <td>Beaumont-Port Arthur</td>\n",
       "      <td>TX</td>\n",
       "      <td>5.46</td>\n",
       "    </tr>\n",
       "    <tr>\n",
       "      <th>4</th>\n",
       "      <td>4</td>\n",
       "      <td>15180</td>\n",
       "      <td>Brownsville-Harlingen, TX</td>\n",
       "      <td>3125575</td>\n",
       "      <td>37061</td>\n",
       "      <td>17.0</td>\n",
       "      <td>6285.0</td>\n",
       "      <td>6376.0</td>\n",
       "      <td>414123.0</td>\n",
       "      <td>422135.0</td>\n",
       "      <td>-0.477560</td>\n",
       "      <td>26.190631</td>\n",
       "      <td>-97.696103</td>\n",
       "      <td>Brownsville-Harlingen</td>\n",
       "      <td>TX</td>\n",
       "      <td>5.46</td>\n",
       "    </tr>\n",
       "  </tbody>\n",
       "</table>\n",
       "</div>"
      ],
      "text/plain": [
       "   Unnamed: 0    Id2                 city_state  agg_commute_mins  \\\n",
       "0           0  10180                Abilene, TX           1313825   \n",
       "1           1  11100               Amarillo, TX           2334755   \n",
       "2           2  12420      Austin-Round Rock, TX          26768530   \n",
       "3           3  13140   Beaumont-Port Arthur, TX           3808355   \n",
       "4           4  15180  Brownsville-Harlingen, TX           3125575   \n",
       "\n",
       "   median_household_inc  bach_or_higher_percent  estab_2011  estab_2016  \\\n",
       "0                 48016                    20.4      3844.0      3950.0   \n",
       "1                 54478                    23.7      6018.0      6348.0   \n",
       "2                 71000                    42.8     41924.0     50759.0   \n",
       "3                 49364                    17.2      7845.0      7896.0   \n",
       "4                 37061                    17.0      6285.0      6376.0   \n",
       "\n",
       "    pop_2011   pop_2016  biz_growth_Y        lat         lng  \\\n",
       "0   165858.0   170860.0     -0.250727  32.448736  -99.733144   \n",
       "1   254635.0   263491.0      1.938220  35.221997 -101.831297   \n",
       "2  1783519.0  2056405.0      5.007286  30.508255  -97.678896   \n",
       "3   390535.0   409901.0     -4.105174  30.080174  -94.126556   \n",
       "4   414123.0   422135.0     -0.477560  26.190631  -97.696103   \n",
       "\n",
       "                    city state  tax_score  \n",
       "0                Abilene    TX       5.46  \n",
       "1               Amarillo    TX       5.46  \n",
       "2      Austin-Round Rock    TX       5.46  \n",
       "3   Beaumont-Port Arthur    TX       5.46  \n",
       "4  Brownsville-Harlingen    TX       5.46  "
      ]
     },
     "execution_count": 9,
     "metadata": {},
     "output_type": "execute_result"
    }
   ],
   "source": [
    "df0 = pd.read_csv(\"new_main_df.csv\")\n",
    "df0.head()"
   ]
  },
  {
   "cell_type": "code",
   "execution_count": 10,
   "metadata": {},
   "outputs": [
    {
     "data": {
      "text/plain": [
       "[(1, 'Abilene', 'TX', 32.4487364, -99.73314390000002, 165858.0, 170860.0, 3844.0, 3950.0, 1313825.0, 48016.0, 20.4, -0.25072708632085705, 'Abilene, TX', '5.46'),\n",
       " (2, 'Amarillo', 'TX', 35.2219971, -101.8312969, 254635.0, 263491.0, 6018.0, 6348.0, 2334755.0, 54478.0, 23.7, 1.938220239903086, 'Amarillo, TX', '5.46'),\n",
       " (3, 'Austin-Round Rock', 'TX', 30.508255100000003, -97.678896, 1783519.0, 2056405.0, 41924.0, 50759.0, 26768530.0, 71000.0, 42.8, 5.007286093937629, 'Austin-Round Rock, TX', '5.46'),\n",
       " (4, 'Beaumont-Port Arthur', 'TX', 30.080174, -94.1265562, 390535.0, 409901.0, 7845.0, 7896.0, 3808355.0, 49364.0, 17.2, -4.105173966294127, 'Beaumont-Port Arthur, TX', '5.46'),\n",
       " (5, 'Brownsville-Harlingen', 'TX', 26.1906306, -97.69610259999999, 414123.0, 422135.0, 6285.0, 6376.0, 3125575.0, 37061.0, 17.0, -0.4775597893343153, 'Brownsville-Harlingen, TX', '5.46'),\n",
       " (6, 'College Station-Bryan', 'TX', 30.825147, -96.4929797, 227997.0, 254716.0, 4316.0, 4860.0, 2053660.0, 42233.0, 35.3, 0.7923891641349163, 'College Station-Bryan, TX', '5.46'),\n",
       " (7, 'Corpus Christi', 'TX', 27.8005828, -97.396381, 431381.0, 452790.0, 9257.0, 9543.0, 3887750.0, 53775.0, 21.2, -1.7847681489023963, 'Corpus Christi, TX', '5.46'),\n",
       " (8, 'Dallas-Fort Worth-Arlington', 'TX', 32.707875099999995, -96.9209135, 6526566.0, 7232599.0, 141069.0, 160269.0, 96061810.0, 63812.0, 33.9, 2.5199266009763743, 'Dallas-Fort Worth-Arlington, TX', '5.46'),\n",
       " (9, 'El Paso', 'TX', 31.7618778, -106.4850217, 820790.0, 842114.0, 13494.0, 14424.0, 8251840.0, 42116.0, 21.9, 4.185235329850869, 'El Paso, TX', '5.46'),\n",
       " (10, 'Houston-The Woodlands-Sugar Land', 'TX', 30.1746765, -95.4539647, 6086895.0, 6772470.0, 123784.0, 139010.0, 90558810.0, 61708.0, 32.0, 0.9323188668146302, 'Houston-The Woodlands-Sugar Land, TX', '5.46')]"
      ]
     },
     "execution_count": 10,
     "metadata": {},
     "output_type": "execute_result"
    }
   ],
   "source": [
    "engine.execute(\"SELECT * FROM cities LIMIT 10\").fetchall()"
   ]
  },
  {
   "cell_type": "code",
   "execution_count": null,
   "metadata": {},
   "outputs": [],
   "source": []
  }
 ],
 "metadata": {
  "kernelspec": {
   "display_name": "Python 3",
   "language": "python",
   "name": "python3"
  },
  "language_info": {
   "codemirror_mode": {
    "name": "ipython",
    "version": 3
   },
   "file_extension": ".py",
   "mimetype": "text/x-python",
   "name": "python",
   "nbconvert_exporter": "python",
   "pygments_lexer": "ipython3",
   "version": "3.6.7"
  }
 },
 "nbformat": 4,
 "nbformat_minor": 2
}
