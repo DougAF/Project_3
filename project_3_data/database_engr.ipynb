{
 "cells": [
  {
   "cell_type": "markdown",
   "metadata": {},
   "source": [
    "# Database setup - Project 2\n"
   ]
  },
  {
   "cell_type": "code",
   "execution_count": 1,
   "metadata": {},
   "outputs": [],
   "source": [
    "# Imports\n",
    "import pandas as pd\n",
    "import sqlalchemy\n",
    "from sqlalchemy import create_engine, MetaData\n",
    "from sqlalchemy.ext.declarative import declarative_base\n",
    "from sqlalchemy import Column, Integer, String, Numeric, Text, Float, ForeignKey\n",
    "from sqlalchemy.orm import sessionmaker, relationship\n"
   ]
  },
  {
   "cell_type": "code",
   "execution_count": null,
   "metadata": {},
   "outputs": [],
   "source": [
    "# Create Engine\n",
    "engine = create_engine(\"sqlite:///p2_cities.sqlite\")\n",
    "\n",
    "# Use `declarative_base` from SQLAlchemy to model the city table as an ORM class\n",
    "# Make sure to specify types for each column\n",
    "# Declare a Base object here\n",
    "Base = declarative_base()\n"
   ]
  },
  {
   "cell_type": "code",
   "execution_count": null,
   "metadata": {},
   "outputs": [],
   "source": [
    "# Define the ORM class or `Cities`\n",
    "### BEGIN SOLUTION\n",
    "class Cities(Base):\n",
    "    \n",
    "    __tablename__ = 'cities'\n",
    "\n",
    "    id = Column(Integer, primary_key=True)\n",
    "    city = Column(Text)\n",
    "    state_name = Column(Text)\n",
    "    population = Column(Float)\n",
    "    lat = Column(Float)\n",
    "    lng = Column(Float)\n",
    "    #date = Column(Text)\n",
    "    #avg_edu = Column(Float)\n",
    "    #avg_income_pc = Column(Float)\n",
    "    #total_college_students = Column(Float)\n",
    "    #crime_rate_per_100000 = Column(Float)\n",
    "    \n",
    "    def __repr__(self):\n",
    "        return f\"id={self.id}, name={self.name}\""
   ]
  },
  {
   "cell_type": "code",
   "execution_count": null,
   "metadata": {},
   "outputs": [],
   "source": [
    "#use create all to create the table \n",
    "\n",
    "Base.metadata.create_all(engine)\n"
   ]
  },
  {
   "cell_type": "code",
   "execution_count": null,
   "metadata": {},
   "outputs": [],
   "source": [
    "# Verify that the table name exists in the database\n",
    "engine.table_names()"
   ]
  },
  {
   "cell_type": "code",
   "execution_count": null,
   "metadata": {},
   "outputs": [],
   "source": [
    "# Use Pandas to Bulk insert each CSV file into the table\n",
    "def populate_table(engine, table, csvfile):\n",
    "    \"\"\"Populates a table from a Pandas DataFrame.\"\"\"\n",
    "    # connect to the database\n",
    "    conn = engine.connect()\n",
    "    \n",
    "    # Load the CSV file into a pandas dataframe \n",
    "    df_to_insert = pd.read_csv(csvfile)\n",
    "    \n",
    "    # Orient='records' creates a list of data to write\n",
    "    # http://pandas-docs.github.io/pandas-docs-travis/io.html#orient-options\n",
    "    #orient = to columns or records better for our needs?\n",
    "    data = df_to_insert.to_dict(orient='records')\n",
    "\n",
    "    # Optional: Delete all rows in the table \n",
    "    conn.execute(table.delete())#NEEDED OR NOT?\n",
    "\n",
    "    # Insert the dataframe into the database in one bulk insert\n",
    "    conn.execute(table.insert(), data)\n",
    "    \n",
    "# Call the function to insert the data for each table\n",
    "populate_table(engine, Cities.__table__, 'cities.csv')\n"
   ]
  },
  {
   "cell_type": "code",
   "execution_count": null,
   "metadata": {},
   "outputs": [],
   "source": [
    "# Use a basic query to validate that the data was inserted correctly for table 'cities'\n",
    "\n",
    "engine.execute(\"SELECT * FROM cities WHERE population > 100000 ORDER BY population DESC LIMIT 1\").fetchall()"
   ]
  },
  {
   "cell_type": "code",
   "execution_count": null,
   "metadata": {},
   "outputs": [],
   "source": [
    "#This CSV is serving as our dummy DATA"
   ]
  },
  {
   "cell_type": "code",
   "execution_count": null,
   "metadata": {},
   "outputs": [],
   "source": [
    "df = pd.DataFrame(engine.execute(\"SELECT * FROM cities ORDER BY population DESC LIMIT 100\").fetchall())"
   ]
  },
  {
   "cell_type": "markdown",
   "metadata": {},
   "source": [
    "#############################################\n",
    "            REAL DB BELOW\n",
    "#############################################"
   ]
  },
  {
   "cell_type": "code",
   "execution_count": 1,
   "metadata": {},
   "outputs": [],
   "source": [
    "#cities_db.sqlite creation"
   ]
  },
  {
   "cell_type": "code",
   "execution_count": 2,
   "metadata": {},
   "outputs": [],
   "source": [
    "engine = create_engine(\"sqlite:///cities_db_3.sqlite\")\n",
    "\n",
    "# Use `declarative_base` from SQLAlchemy to model the city table as an ORM class\n",
    "# Make sure to specify types for each column\n",
    "# Declare a Base object here\n",
    "Base = declarative_base()"
   ]
  },
  {
   "cell_type": "code",
   "execution_count": 3,
   "metadata": {},
   "outputs": [],
   "source": [
    "# Define the ORM class or `Cities`\n",
    "### BEGIN SOLUTION        \n",
    "#Cities.city,\n",
    "#         Cities.state,\n",
    "#         Cities.lat,\n",
    "#         Cities.lng,\n",
    "#         Cities.pop_2016,\n",
    "#         Cities.estab_2016,\n",
    "#         Cities.median_household_inc,\n",
    "#         Cities.bach_or_higher_percent,\n",
    "#         Cities.agg_commute_mins,\n",
    "#         Cities.biz_growth_Y,\n",
    "#         Cities.tax_rank,\n",
    "#         Cities.corp_tax_rank,\n",
    "#         Cities.income_tax_rank,\n",
    "#         Cities.sales_tax_rank,\n",
    "#         Cities.property_tax_rank,\n",
    "#         Cities.unemployment_tax_rank\n",
    "\n",
    "class Cities(Base):\n",
    "    \n",
    "    __tablename__ = 'cities'\n",
    "\n",
    "    id2 = Column(Integer, primary_key=True)\n",
    "    city = Column(Text)\n",
    "    state = Column(Text)  \n",
    "    lat = Column(Float)\n",
    "    lng = Column(Float)\n",
    "    pop_2011 = Column(Float)\n",
    "    pop_2016 = Column(Float)\n",
    "    estab_2011 = Column(Float)\n",
    "    estab_2016 = Column(Float)\n",
    "    agg_commute_mins = Column(Float)\n",
    "    median_household_inc = Column(Float)\n",
    "    bach_or_higher_percent = Column(Float)\n",
    "    biz_growth_Y = Column(Float)\n",
    "#     tax_rank = Column(Float)\n",
    "#     corp_tax_rank = Column(Float)\n",
    "#     income_tax_rank = Column(Float)\n",
    "#     sales_tax_rank = Column(Float)\n",
    "#     property_tax_rank = Column(Float)\n",
    "#     unemployment_tax_rank = Column(Float)\n",
    "    city_state = Column(Text)\n",
    "    tax_score = Column(Text)\n",
    "    \n",
    "    def __repr__(self):\n",
    "        return f\"id={self.id}, name={self.name}\""
   ]
  },
  {
   "cell_type": "code",
   "execution_count": 6,
   "metadata": {},
   "outputs": [],
   "source": [
    "Base.metadata.create_all(engine)"
   ]
  },
  {
   "cell_type": "code",
   "execution_count": 4,
   "metadata": {},
   "outputs": [
    {
     "data": {
      "text/plain": [
       "[]"
      ]
     },
     "execution_count": 4,
     "metadata": {},
     "output_type": "execute_result"
    }
   ],
   "source": [
    "# Verify that the table name exists in the database\n",
    "engine.table_names()"
   ]
  },
  {
   "cell_type": "code",
   "execution_count": 10,
   "metadata": {},
   "outputs": [],
   "source": [
    "# Use Pandas to Bulk insert each CSV file into the table\n",
    "def populate_table(engine, table, csvfile):\n",
    "    \"\"\"Populates a table from a Pandas DataFrame.\"\"\"\n",
    "    # connect to the database\n",
    "    conn = engine.connect()\n",
    "    \n",
    "    # Load the CSV file into a pandas dataframe \n",
    "    df_to_insert = pd.read_csv(csvfile)\n",
    "    \n",
    "    # Orient='records' creates a list of data to write\n",
    "    # http://pandas-docs.github.io/pandas-docs-travis/io.html#orient-options\n",
    "    #orient = to columns or records better for our needs?\n",
    "    data = df_to_insert.to_dict(orient='records')\n",
    "\n",
    "    # Optional: Delete all rows in the table \n",
    "    conn.execute(table.delete())#NEEDED OR NOT?\n",
    "\n",
    "    # Insert the dataframe into the database in one bulk insert\n",
    "    conn.execute(table.insert(), data)\n",
    "    \n",
    "# Call the function to insert the data for each table\n",
    "populate_table(engine, Cities.__table__, 'new_main_df.csv')"
   ]
  },
  {
   "cell_type": "code",
   "execution_count": 9,
   "metadata": {},
   "outputs": [
    {
     "data": {
      "text/html": [
       "<div>\n",
       "<style scoped>\n",
       "    .dataframe tbody tr th:only-of-type {\n",
       "        vertical-align: middle;\n",
       "    }\n",
       "\n",
       "    .dataframe tbody tr th {\n",
       "        vertical-align: top;\n",
       "    }\n",
       "\n",
       "    .dataframe thead th {\n",
       "        text-align: right;\n",
       "    }\n",
       "</style>\n",
       "<table border=\"1\" class=\"dataframe\">\n",
       "  <thead>\n",
       "    <tr style=\"text-align: right;\">\n",
       "      <th></th>\n",
       "      <th>Unnamed: 0</th>\n",
       "      <th>Id2</th>\n",
       "      <th>city_state</th>\n",
       "      <th>agg_commute_mins</th>\n",
       "      <th>median_household_inc</th>\n",
       "      <th>bach_or_higher_percent</th>\n",
       "      <th>estab_2011</th>\n",
       "      <th>estab_2016</th>\n",
       "      <th>pop_2011</th>\n",
       "      <th>pop_2016</th>\n",
       "      <th>biz_growth_Y</th>\n",
       "      <th>lat</th>\n",
       "      <th>lng</th>\n",
       "      <th>city</th>\n",
       "      <th>state</th>\n",
       "      <th>tax_score</th>\n",
       "    </tr>\n",
       "  </thead>\n",
       "  <tbody>\n",
       "    <tr>\n",
       "      <th>0</th>\n",
       "      <td>0</td>\n",
       "      <td>10180</td>\n",
       "      <td>Abilene, TX</td>\n",
       "      <td>1313825</td>\n",
       "      <td>48016</td>\n",
       "      <td>20.4</td>\n",
       "      <td>3844.0</td>\n",
       "      <td>3950.0</td>\n",
       "      <td>165858.0</td>\n",
       "      <td>170860.0</td>\n",
       "      <td>-0.250727</td>\n",
       "      <td>32.448736</td>\n",
       "      <td>-99.733144</td>\n",
       "      <td>Abilene</td>\n",
       "      <td>TX</td>\n",
       "      <td>5.46</td>\n",
       "    </tr>\n",
       "    <tr>\n",
       "      <th>1</th>\n",
       "      <td>1</td>\n",
       "      <td>11100</td>\n",
       "      <td>Amarillo, TX</td>\n",
       "      <td>2334755</td>\n",
       "      <td>54478</td>\n",
       "      <td>23.7</td>\n",
       "      <td>6018.0</td>\n",
       "      <td>6348.0</td>\n",
       "      <td>254635.0</td>\n",
       "      <td>263491.0</td>\n",
       "      <td>1.938220</td>\n",
       "      <td>35.221997</td>\n",
       "      <td>-101.831297</td>\n",
       "      <td>Amarillo</td>\n",
       "      <td>TX</td>\n",
       "      <td>5.46</td>\n",
       "    </tr>\n",
       "    <tr>\n",
       "      <th>2</th>\n",
       "      <td>2</td>\n",
       "      <td>12420</td>\n",
       "      <td>Austin-Round Rock, TX</td>\n",
       "      <td>26768530</td>\n",
       "      <td>71000</td>\n",
       "      <td>42.8</td>\n",
       "      <td>41924.0</td>\n",
       "      <td>50759.0</td>\n",
       "      <td>1783519.0</td>\n",
       "      <td>2056405.0</td>\n",
       "      <td>5.007286</td>\n",
       "      <td>30.508255</td>\n",
       "      <td>-97.678896</td>\n",
       "      <td>Austin-Round Rock</td>\n",
       "      <td>TX</td>\n",
       "      <td>5.46</td>\n",
       "    </tr>\n",
       "    <tr>\n",
       "      <th>3</th>\n",
       "      <td>3</td>\n",
       "      <td>13140</td>\n",
       "      <td>Beaumont-Port Arthur, TX</td>\n",
       "      <td>3808355</td>\n",
       "      <td>49364</td>\n",
       "      <td>17.2</td>\n",
       "      <td>7845.0</td>\n",
       "      <td>7896.0</td>\n",
       "      <td>390535.0</td>\n",
       "      <td>409901.0</td>\n",
       "      <td>-4.105174</td>\n",
       "      <td>30.080174</td>\n",
       "      <td>-94.126556</td>\n",
       "      <td>Beaumont-Port Arthur</td>\n",
       "      <td>TX</td>\n",
       "      <td>5.46</td>\n",
       "    </tr>\n",
       "    <tr>\n",
       "      <th>4</th>\n",
       "      <td>4</td>\n",
       "      <td>15180</td>\n",
       "      <td>Brownsville-Harlingen, TX</td>\n",
       "      <td>3125575</td>\n",
       "      <td>37061</td>\n",
       "      <td>17.0</td>\n",
       "      <td>6285.0</td>\n",
       "      <td>6376.0</td>\n",
       "      <td>414123.0</td>\n",
       "      <td>422135.0</td>\n",
       "      <td>-0.477560</td>\n",
       "      <td>26.190631</td>\n",
       "      <td>-97.696103</td>\n",
       "      <td>Brownsville-Harlingen</td>\n",
       "      <td>TX</td>\n",
       "      <td>5.46</td>\n",
       "    </tr>\n",
       "  </tbody>\n",
       "</table>\n",
       "</div>"
      ],
      "text/plain": [
       "   Unnamed: 0    Id2                 city_state  agg_commute_mins  \\\n",
       "0           0  10180                Abilene, TX           1313825   \n",
       "1           1  11100               Amarillo, TX           2334755   \n",
       "2           2  12420      Austin-Round Rock, TX          26768530   \n",
       "3           3  13140   Beaumont-Port Arthur, TX           3808355   \n",
       "4           4  15180  Brownsville-Harlingen, TX           3125575   \n",
       "\n",
       "   median_household_inc  bach_or_higher_percent  estab_2011  estab_2016  \\\n",
       "0                 48016                    20.4      3844.0      3950.0   \n",
       "1                 54478                    23.7      6018.0      6348.0   \n",
       "2                 71000                    42.8     41924.0     50759.0   \n",
       "3                 49364                    17.2      7845.0      7896.0   \n",
       "4                 37061                    17.0      6285.0      6376.0   \n",
       "\n",
       "    pop_2011   pop_2016  biz_growth_Y        lat         lng  \\\n",
       "0   165858.0   170860.0     -0.250727  32.448736  -99.733144   \n",
       "1   254635.0   263491.0      1.938220  35.221997 -101.831297   \n",
       "2  1783519.0  2056405.0      5.007286  30.508255  -97.678896   \n",
       "3   390535.0   409901.0     -4.105174  30.080174  -94.126556   \n",
       "4   414123.0   422135.0     -0.477560  26.190631  -97.696103   \n",
       "\n",
       "                    city state  tax_score  \n",
       "0                Abilene    TX       5.46  \n",
       "1               Amarillo    TX       5.46  \n",
       "2      Austin-Round Rock    TX       5.46  \n",
       "3   Beaumont-Port Arthur    TX       5.46  \n",
       "4  Brownsville-Harlingen    TX       5.46  "
      ]
     },
     "execution_count": 9,
     "metadata": {},
     "output_type": "execute_result"
    }
   ],
   "source": [
    "df0 = pd.read_csv(\"new_main_df.csv\")\n",
    "df0.head()"
   ]
  },
  {
   "cell_type": "code",
   "execution_count": 11,
   "metadata": {},
   "outputs": [
    {
     "data": {
      "text/plain": [
       "[(1, 'Abilene', 'TX', 32.4487364, -99.73314390000002, 165858.0, 170860.0, 3844.0, 3950.0, 1313825.0, 48016.0, 20.4, -0.25072708632085705, 'Abilene, TX', '5.46'),\n",
       " (2, 'Amarillo', 'TX', 35.2219971, -101.8312969, 254635.0, 263491.0, 6018.0, 6348.0, 2334755.0, 54478.0, 23.7, 1.938220239903086, 'Amarillo, TX', '5.46'),\n",
       " (3, 'Austin-Round Rock', 'TX', 30.508255100000003, -97.678896, 1783519.0, 2056405.0, 41924.0, 50759.0, 26768530.0, 71000.0, 42.8, 5.007286093937629, 'Austin-Round Rock, TX', '5.46'),\n",
       " (4, 'Beaumont-Port Arthur', 'TX', 30.080174, -94.1265562, 390535.0, 409901.0, 7845.0, 7896.0, 3808355.0, 49364.0, 17.2, -4.105173966294127, 'Beaumont-Port Arthur, TX', '5.46'),\n",
       " (5, 'Brownsville-Harlingen', 'TX', 26.1906306, -97.69610259999999, 414123.0, 422135.0, 6285.0, 6376.0, 3125575.0, 37061.0, 17.0, -0.4775597893343153, 'Brownsville-Harlingen, TX', '5.46'),\n",
       " (6, 'College Station-Bryan', 'TX', 30.825147, -96.4929797, 227997.0, 254716.0, 4316.0, 4860.0, 2053660.0, 42233.0, 35.3, 0.7923891641349163, 'College Station-Bryan, TX', '5.46'),\n",
       " (7, 'Corpus Christi', 'TX', 27.8005828, -97.396381, 431381.0, 452790.0, 9257.0, 9543.0, 3887750.0, 53775.0, 21.2, -1.7847681489023963, 'Corpus Christi, TX', '5.46'),\n",
       " (8, 'Dallas-Fort Worth-Arlington', 'TX', 32.707875099999995, -96.9209135, 6526566.0, 7232599.0, 141069.0, 160269.0, 96061810.0, 63812.0, 33.9, 2.5199266009763743, 'Dallas-Fort Worth-Arlington, TX', '5.46'),\n",
       " (9, 'El Paso', 'TX', 31.7618778, -106.4850217, 820790.0, 842114.0, 13494.0, 14424.0, 8251840.0, 42116.0, 21.9, 4.185235329850869, 'El Paso, TX', '5.46'),\n",
       " (10, 'Houston-The Woodlands-Sugar Land', 'TX', 30.1746765, -95.4539647, 6086895.0, 6772470.0, 123784.0, 139010.0, 90558810.0, 61708.0, 32.0, 0.9323188668146302, 'Houston-The Woodlands-Sugar Land, TX', '5.46')]"
      ]
     },
     "execution_count": 11,
     "metadata": {},
     "output_type": "execute_result"
    }
   ],
   "source": [
    "engine.execute(\"SELECT * FROM cities LIMIT 10\").fetchall()"
   ]
  },
  {
   "cell_type": "markdown",
   "metadata": {},
   "source": [
    "# New Database for ML main.csv"
   ]
  },
  {
   "cell_type": "code",
   "execution_count": 23,
   "metadata": {},
   "outputs": [
    {
     "data": {
      "text/plain": [
       "(1684, 31)"
      ]
     },
     "execution_count": 23,
     "metadata": {},
     "output_type": "execute_result"
    }
   ],
   "source": [
    "df_new = pd.read_csv(\"main.csv\")\n",
    "df_new.shape"
   ]
  },
  {
   "cell_type": "code",
   "execution_count": 2,
   "metadata": {},
   "outputs": [],
   "source": [
    "engine = create_engine(\"sqlite:///industries_db.sqlite\")\n",
    "\n",
    "# Use `declarative_base` from SQLAlchemy to model the city table as an ORM class\n",
    "# Declare a Base object here\n",
    "Base = declarative_base()"
   ]
  },
  {
   "cell_type": "markdown",
   "metadata": {},
   "source": [
    "#column heads\n",
    "Id2', 'city_state', 'houses_total', 'pop_18_to_24_total',\n",
    "       'renters_total', 'house_units', 'population', 'establishments_total',\n",
    "       'year', 'agriculture_forest_fish_hunt_ratio',\n",
    "       'mine_quarry_oil_gas_extraction_ratio', 'utilities_ratio',\n",
    "       'construction_ratio', 'manufacturing_ratio', 'wholesale_trade_ratio',\n",
    "       'retail_ratio', 'transport_ warehousing_ratio', 'information_ratio',\n",
    "       'finance_insurance_ratio', 'realestate_rent_lease_ratio',\n",
    "       'professional_scientific_tech_services_ratio',\n",
    "       'mgmt_ companies_enterprises_ratio',\n",
    "       'admin_support_waste_management_services_ratio',\n",
    "       'educational_services_ratio', 'health_social_assistance_ratio',\n",
    "       'arts_entertainment_and_recreation_ratio',\n",
    "       'accommodation_food_services_ratio', 'other_ratio',\n",
    "       'industries_not_classified_ratio', 'commute_time_per_person',\n",
    "       'establishments_%_change'"
   ]
  },
  {
   "cell_type": "code",
   "execution_count": 5,
   "metadata": {},
   "outputs": [],
   "source": [
    "class Industry(Base):\n",
    "    \n",
    "    __tablename__ = 'industry'\n",
    "\n",
    "    id2 = Column(Integer, primary_key=True)\n",
    "    city_state = Column(Text)\n",
    "    houses_total = Column(Float)  \n",
    "    pop_18_to_24_total = Column(Float)\n",
    "    renters_total = Column(Float)\n",
    "    house_units = Column(Float)\n",
    "    population = Column(Float)\n",
    "    establishments_total = Column(Float)\n",
    "    year = Column(Float)\n",
    "    commute_time_per_person = Column(Float)\n",
    "    agriculture_forest_fish_hunt_ratio = Column(Float)\n",
    "    mine_quarry_oil_gas_extraction_ratio = Column(Float)\n",
    "    utilities_ratio = Column(Float)\n",
    "    construction_ratio = Column(Float)\n",
    "    manufacturing_ratio = Column(Float)\n",
    "    wholesale_trade_ratio = Column(Float)\n",
    "    retail_ratio = Column(Float)\n",
    "    transport_warehousing_ratio = Column(Float)\n",
    "    information_ratio = Column(Float)\n",
    "    finance_insurance_ratio = Column(Float)\n",
    "    realestate_rent_lease_ratio = Column(Float)\n",
    "    professional_scientific_tech_services_ratio = Column(Float)\n",
    "    mgmt_companies_enterprises_ratio = Column(Float)\n",
    "    admin_support_waste_management_services_ratio = Column(Float)\n",
    "    educational_services_ratio = Column(Float)\n",
    "    health_social_assistance_ratio = Column(Float)\n",
    "    arts_entertainment_and_recreation_ratio = Column(Float)\n",
    "    accommodation_food_services_ratio = Column(Float)\n",
    "    other_ratio = Column(Float)\n",
    "    industries_not_classified_ratio = Column(Float)\n",
    "    commute_time_per_person = Column(Float)\n",
    "  #  establishments_percent_change = Column(Float)\n",
    "\n",
    "    \n",
    "    def __repr__(self):\n",
    "        return f\"id={self.id}, name={self.name}\""
   ]
  },
  {
   "cell_type": "code",
   "execution_count": 7,
   "metadata": {},
   "outputs": [],
   "source": [
    "Base.metadata.create_all(engine)"
   ]
  },
  {
   "cell_type": "code",
   "execution_count": 8,
   "metadata": {},
   "outputs": [
    {
     "data": {
      "text/plain": [
       "['cities', 'industry']"
      ]
     },
     "execution_count": 8,
     "metadata": {},
     "output_type": "execute_result"
    }
   ],
   "source": [
    "engine.table_names()"
   ]
  },
  {
   "cell_type": "code",
   "execution_count": 6,
   "metadata": {},
   "outputs": [
    {
     "ename": "NameError",
     "evalue": "name 'df2_new' is not defined",
     "output_type": "error",
     "traceback": [
      "\u001b[1;31m---------------------------------------------------------------------------\u001b[0m",
      "\u001b[1;31mNameError\u001b[0m                                 Traceback (most recent call last)",
      "\u001b[1;32m<ipython-input-6-84bdb0413f33>\u001b[0m in \u001b[0;36m<module>\u001b[1;34m\u001b[0m\n\u001b[1;32m----> 1\u001b[1;33m \u001b[0mdf2_new\u001b[0m\u001b[1;33m.\u001b[0m\u001b[0mshape\u001b[0m\u001b[1;33m\u001b[0m\u001b[1;33m\u001b[0m\u001b[0m\n\u001b[0m",
      "\u001b[1;31mNameError\u001b[0m: name 'df2_new' is not defined"
     ]
    }
   ],
   "source": [
    "df2_new.shape"
   ]
  },
  {
   "cell_type": "code",
   "execution_count": 29,
   "metadata": {},
   "outputs": [],
   "source": [
    "df2_new = df_new.dropna(axis=0, how='all')"
   ]
  },
  {
   "cell_type": "code",
   "execution_count": 30,
   "metadata": {},
   "outputs": [],
   "source": [
    "df2_new.to_csv(\"main_rename_dropna.csv\")"
   ]
  },
  {
   "cell_type": "code",
   "execution_count": 9,
   "metadata": {},
   "outputs": [],
   "source": [
    "def populate_table(engine, table, csvfile):\n",
    "    \"\"\"Populates a table from a Pandas DataFrame.\"\"\"\n",
    "    # connect to the database\n",
    "    conn = engine.connect()\n",
    "    \n",
    "    # Load the CSV file into a pandas dataframe \n",
    "    df_to_insert = pd.read_csv(csvfile)\n",
    "    \n",
    "    # Orient='records' creates a list of data to write\n",
    "    # http://pandas-docs.github.io/pandas-docs-travis/io.html#orient-options\n",
    "    #orient = to columns or records better for our needs?\n",
    "    data = df_to_insert.to_dict(orient='records')\n",
    "\n",
    "    # Optional: Delete all rows in the table \n",
    "    conn.execute(table.delete())#NEEDED OR NOT?\n",
    "\n",
    "    # Insert the dataframe into the database in one bulk insert\n",
    "    conn.execute(table.insert(), data)\n",
    "    \n",
    "# Call the function to insert the data for each table\n",
    "populate_table(engine, Industry.__table__, 'main_rename_dropna_final.csv')"
   ]
  },
  {
   "cell_type": "code",
   "execution_count": 13,
   "metadata": {},
   "outputs": [
    {
     "data": {
      "text/plain": [
       "[(1, 'Abilene, TX Metro Area', 60066.0, 22457.0, 24096.0, 70553.0, 167800.0, 3865.0, 2012.0, 0.002587322, 0.036998706, 0.010866753, 0.08305304, 0.030789133, 0.051228978, 0.16377749, None, 0.018369987, 0.074256145, 0.045795602000000005, 0.07710219900000001, None, 0.039586027999999995, 0.009831824, 0.108926261, 0.017076326, 0.08615782699999999, 0.001293661, 7.1989868889999995),\n",
       " (2, 'Akron, OH Metro Area', 280887.0, 76280.0, 92738.0, 312864.0, 702262.0, 16588.0, 2012.0, 0.000723415, 0.002290813, 0.002471666, 0.076139378, 0.065047022, 0.070954907, 0.13377140099999998, None, 0.014227152, 0.06715698099999999, 0.034000482, 0.10483482, None, 0.056366047999999995, 0.012659753999999999, 0.10815047, 0.014347721, 0.09018567599999999, 0.00048227599999999996, 10.38869396),\n",
       " (3, 'Albany, GA Metro Area', 57699.0, 17731.0, 25047.0, 65861.0, 155019.0, 3210.0, 2012.0, 0.009657321, 0.000311526, 0.002803738, 0.06573208700000001, 0.029283489, 0.057009345999999995, 0.204984424, None, 0.011214953, 0.077258567, 0.052647975, 0.085358255, None, 0.043613707, 0.006542056, 0.12024922099999999, 0.009034268, 0.08255451700000001, 0.001246106, 7.639128107),\n",
       " (4, 'Albany-Schenectady-Troy, NY Metro Area', 342705.0, 99004.0, 121536.0, 394602.0, 874646.0, 21049.0, 2012.0, 0.0017578029999999998, 0.000665115, 0.001947836, 0.110456554, 0.028267376, 0.043897572, 0.143759799, None, 0.019573376, 0.063233408, 0.039954392000000005, 0.110171505, None, 0.050738752000000005, 0.014632524, 0.114732291, 0.018575704, 0.108508718, 0.000665115, 10.460883599999999),\n",
       " (5, 'Albuquerque, NM Metro Area', 344869.0, 88750.0, 114440.0, 377011.0, 902794.0, 18590.0, 2012.0, 0.00091447, 0.0017751479999999998, 0.002259279, 0.09413663300000001, 0.036471221, 0.053415815, 0.132383002, None, 0.017374933000000002, 0.06449704099999999, 0.055567509, 0.133566434, None, 0.046745562000000004, 0.017213556, 0.119042496, 0.013179129, 0.089080151, 0.000645508, 9.622510783),\n",
       " (6, 'Allentown-Bethlehem-Easton, PA-NJ Metro Area', 314173.0, 76653.0, 95208.0, 343354.0, 827171.0, 18256.0, 2012.0, 0.0009312010000000001, 0.001150307, 0.003067485, 0.091750657, 0.047436459, 0.051873357, 0.148280018, None, 0.014460998999999999, 0.05417397, 0.031496494, 0.08961437300000001, None, 0.051544698, 0.012927257, 0.131408852, 0.015118317, 0.096899649, 0.000492989, 12.36819231),\n",
       " (7, 'Altoona, PA Metro Area', 50098.0, 11697.0, 14815.0, 56154.0, 127121.0, 3210.0, 2012.0, 0.0015576320000000002, 0.000311526, 0.0015576320000000002, 0.092523364, 0.042367601, 0.044548287, 0.17383177600000002, None, 0.018691588999999998, 0.058878505, 0.026168224, 0.069158879, None, 0.04517134, 0.008722741, 0.136448598, 0.014018692, 0.08691588800000001, 0.000311526, 8.259453591),\n",
       " (8, 'Amarillo, TX Metro Area', 94559.0, 27908.0, 34271.0, 103729.0, 254579.0, 6106.0, 2012.0, 0.0027841470000000003, 0.012446773999999999, 0.003603013, 0.097117589, 0.033082214, 0.048968227999999996, 0.153783164, None, 0.012446773999999999, 0.079266295, 0.049950867999999995, 0.086799869, None, 0.047821815, 0.007697346999999999, 0.11578775, 0.014412053999999999, 0.093514576, 0.0008188669999999999, 8.489624046),\n",
       " (9, 'Ames, IA Metro Area', 35541.0, 27276.0, 15659.0, 37250.0, 91140.0, 2001.0, 2012.0, 0.008995501999999999, 0.0009995, 0.003498251, 0.093453273, 0.03848076, 0.04097951, 0.145427286, None, 0.024987506, 0.064967516, 0.047476262000000005, 0.10544727599999999, None, 0.047976012, 0.010494753, 0.095952024, 0.018490755, 0.11544227900000001, 0.0009995, 8.686471362999999),\n",
       " (10, 'Anchorage, AK Metro Area', 137052.0, 42748.0, 49958.0, 154965.0, 392535.0, 10593.0, 2012.0, 0.0044368920000000004, 0.008118569, 0.001888039, 0.125271406, 0.021240442000000002, 0.04134806, 0.10431417, None, 0.019163599, 0.04182007, 0.043802510999999995, 0.123194562, None, 0.064665345, 0.013310677, 0.135278014, 0.019635608, 0.092513924, 0.0007552160000000001, 10.83312316)]"
      ]
     },
     "execution_count": 13,
     "metadata": {},
     "output_type": "execute_result"
    }
   ],
   "source": [
    "engine.execute(\"SELECT * FROM industry LIMIT 10\").fetchall()"
   ]
  },
  {
   "cell_type": "code",
   "execution_count": null,
   "metadata": {},
   "outputs": [],
   "source": []
  }
 ],
 "metadata": {
  "kernelspec": {
   "display_name": "Python 3",
   "language": "python",
   "name": "python3"
  },
  "language_info": {
   "codemirror_mode": {
    "name": "ipython",
    "version": 3
   },
   "file_extension": ".py",
   "mimetype": "text/x-python",
   "name": "python",
   "nbconvert_exporter": "python",
   "pygments_lexer": "ipython3",
   "version": "3.6.7"
  }
 },
 "nbformat": 4,
 "nbformat_minor": 2
}
